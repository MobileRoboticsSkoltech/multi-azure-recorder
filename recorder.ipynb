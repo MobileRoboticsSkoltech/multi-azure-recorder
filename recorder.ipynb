{
 "cells": [
  {
   "cell_type": "code",
   "execution_count": 2,
   "id": "a2add8b4-e915-4d30-8a43-5ed2f2501e1b",
   "metadata": {},
   "outputs": [],
   "source": [
    "from PIL import Image\n",
    "import requests\n",
    "import time\n",
    "%matplotlib widget\n",
    "import matplotlib.pyplot as plt\n",
    "from IPython.display import clear_output\n",
    "import ipywidgets as widgets\n",
    "from IPython.display import display\n",
    "import asyncio\n",
    "\n",
    "err_max_len = 30"
   ]
  },
  {
   "cell_type": "code",
   "execution_count": 3,
   "id": "86fab72b-9ff8-4247-9014-9abdc5ddcc76",
   "metadata": {},
   "outputs": [],
   "source": [
    "addresses = ['106.109.164.81:8000', '106.109.164.29:8000', '127.0.0.1:8000']"
   ]
  },
  {
   "cell_type": "code",
   "execution_count": 4,
   "id": "e6557380-98f9-4451-abc1-27ae011cd12d",
   "metadata": {},
   "outputs": [],
   "source": [
    "def stop():\n",
    "    stopped = 0\n",
    "    for address in addresses:\n",
    "        try:\n",
    "            response = requests.get(f'http://{address}/stop')\n",
    "            stopped+=1\n",
    "            print(f'stopped {address}')\n",
    "        except Exception as e:\n",
    "            print(f'unable to stop {address}: {str(e)[:err_max_len]}')\n",
    "    if (stopped != len(addresses)):\n",
    "        print('error')\n",
    "\n",
    "def start(fisheye=False):\n",
    "    fname = time.strftime(\"%Y-%m-%d-%H-%M-%S\")\n",
    "    started = 0\n",
    "    for address in addresses:\n",
    "        try:\n",
    "            response = requests.get(f\"http://{address}/start?fname={fname}&fish={'on' if fisheye else 'off'}\")\n",
    "            started+=1\n",
    "            print(f'started {address}')\n",
    "        except Exception as e:\n",
    "            print(f'unable to start {address}: {str(e)[:err_max_len]}')\n",
    "    if (started != len(addresses)): \n",
    "        print('error, stopping all')\n",
    "        stop()\n",
    "        \n",
    "def show_preview(ip):\n",
    "    response = requests.get(f'http://{ip}/preview', stream=True)\n",
    "    img = Image.open(response.raw)\n",
    "    plt.imshow(img)\n",
    "    plt.show()\n",
    "\n",
    "def monitor():\n",
    "    try:\n",
    "        while True:\n",
    "            clear_output(wait=True)\n",
    "            for address in addresses:\n",
    "                try: show_preview(address)\n",
    "                except Exception as e:\n",
    "                    print(f'{address}: no image; {str(e)[:err_max_len]}')\n",
    "            time.sleep(2)\n",
    "    except KeyboardInterrupt:\n",
    "        print('exit')"
   ]
  },
  {
   "cell_type": "code",
   "execution_count": 9,
   "id": "6bf48fd5-3fac-4585-8336-457e23fa3dc4",
   "metadata": {},
   "outputs": [
    {
     "data": {
      "application/vnd.jupyter.widget-view+json": {
       "model_id": "eceaf5ca4b544b988a7b42d7ab15d0f0",
       "version_major": 2,
       "version_minor": 0
      },
      "text/plain": [
       "ToggleButton(value=False, description='Start')"
      ]
     },
     "metadata": {},
     "output_type": "display_data"
    },
    {
     "data": {
      "application/vnd.jupyter.widget-view+json": {
       "model_id": "b947aa21523b4c8da2b344cb0aa9a184",
       "version_major": 2,
       "version_minor": 0
      },
      "text/plain": [
       "Checkbox(value=False, description='calibration')"
      ]
     },
     "metadata": {},
     "output_type": "display_data"
    },
    {
     "data": {
      "application/vnd.jupyter.widget-view+json": {
       "model_id": "5b29f342d28b4b5e8bf3fef213463835",
       "version_major": 2,
       "version_minor": 0
      },
      "image/png": "[encoded data removed]",
      "text/html": [
       "\n",
       "            <div style=\"display: inline-block;\">\n",
       "                <div class=\"jupyter-widgets widget-label\" style=\"text-align: center;\">\n",
       "                    Figure\n",
       "                </div>\n",
       "                <img src='data:image/png;base64,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' width=1000.0/>\n",
       "            </div>\n",
       "        "
      ],
      "text/plain": [
       "Canvas(toolbar=Toolbar(toolitems=[('Home', 'Reset original view', 'home', 'home'), ('Back', 'Back to previous …"
      ]
     },
     "metadata": {},
     "output_type": "display_data"
    }
   ],
   "source": [
    "start_button = widgets.ToggleButton(value=False, description='Start')\n",
    "calib_checkbox = widgets.Checkbox(value=False, description='calibration')\n",
    "output = widgets.Output()\n",
    "\n",
    "display(start_button)\n",
    "display(calib_checkbox)\n",
    "\n",
    "fig = plt.figure(figsize=(10, 2))\n",
    "a1 = fig.add_subplot(131)\n",
    "a2 = fig.add_subplot(132)\n",
    "fe = fig.add_subplot(133)\n",
    "\n",
    "class RecorderClient:\n",
    "\n",
    "    def __init__(self, s_btn, f_chb, img_dspl):\n",
    "        self.s_btn = s_btn\n",
    "        self.f_chb = f_chb\n",
    "        self.img_dspl = img_dspl\n",
    "        self.state = False\n",
    "\n",
    "    async def run(self):\n",
    "        while True:\n",
    "            if self.s_btn.value != self.state:\n",
    "                if self.s_btn.value:\n",
    "                    self.s_btn.description = 'Stop'\n",
    "                    with output: start(fisheye=self.f_chb.value)\n",
    "                else:\n",
    "                    self.s_btn.description = 'Start'\n",
    "                    with output: stop()\n",
    "                self.state = self.s_btn.value\n",
    "            await asyncio.sleep(2)\n",
    "            if (self.state): \n",
    "                for i, address in enumerate(addresses):\n",
    "                    try: \n",
    "                        response = requests.get(f'http://{address}/preview', stream=True)\n",
    "                        img = Image.open(response.raw)\n",
    "                        self.img_dspl[i].imshow(img)\n",
    "                    except Exception as e:\n",
    "                        with output: print(f'{address}: no image; {str(e)[:err_max_len]}')\n",
    "            \n",
    "    def start(self):\n",
    "        asyncio.ensure_future(self.run())\n",
    "\n",
    "RecorderClient(start_button, calib_checkbox, [a1, a2, fe]).start()"
   ]
  },
  {
   "cell_type": "markdown",
   "id": "03abefe5-7dcc-4f8e-b079-098bc4c0ff53",
   "metadata": {},
   "source": [
    "### Raw interface"
   ]
  },
  {
   "cell_type": "code",
   "execution_count": 5,
   "id": "4e63537f-9cac-4111-afb9-b6ebbd019296",
   "metadata": {},
   "outputs": [
    {
     "name": "stdout",
     "output_type": "stream",
     "text": [
      "started 106.109.164.81:8000\n",
      "started 106.109.164.29:8000\n",
      "started 127.0.0.1:8000\n"
     ]
    }
   ],
   "source": [
    "start(fisheye=False)"
   ]
  },
  {
   "cell_type": "code",
   "execution_count": 6,
   "id": "015e3ef2-22fd-433d-b8ec-b42f320210bb",
   "metadata": {},
   "outputs": [
    {
     "name": "stdout",
     "output_type": "stream",
     "text": [
      "106.109.164.81:8000: no image; cannot identify image file <_i\n",
      "exit\n"
     ]
    }
   ],
   "source": [
    "monitor()"
   ]
  },
  {
   "cell_type": "code",
   "execution_count": 7,
   "id": "9afe3983-9332-48a4-b32b-d36d0c745eb0",
   "metadata": {},
   "outputs": [
    {
     "name": "stdout",
     "output_type": "stream",
     "text": [
      "stopped 106.109.164.81:8000\n",
      "stopped 106.109.164.29:8000\n",
      "stopped 127.0.0.1:8000\n"
     ]
    }
   ],
   "source": [
    "stop()"
   ]
  },
  {
   "cell_type": "code",
   "execution_count": null,
   "id": "aae5b7ed-6f40-4147-9611-76045e6d06ce",
   "metadata": {},
   "outputs": [],
   "source": []
  }
 ],
 "metadata": {
  "kernelspec": {
   "display_name": "Python 3 (ipykernel)",
   "language": "python",
   "name": "python3"
  },
  "language_info": {
   "codemirror_mode": {
    "name": "ipython",
    "version": 3
   },
   "file_extension": ".py",
   "mimetype": "text/x-python",
   "name": "python",
   "nbconvert_exporter": "python",
   "pygments_lexer": "ipython3",
   "version": "3.9.7"
  }
 },
 "nbformat": 4,
 "nbformat_minor": 5
}
