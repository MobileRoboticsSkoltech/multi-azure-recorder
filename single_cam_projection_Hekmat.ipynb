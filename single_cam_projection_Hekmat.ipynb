{
 "cells": [
  {
   "cell_type": "markdown",
   "metadata": {},
   "source": [
    "# Pixel alignment between RGB and depth camera"
   ]
  },
  {
   "cell_type": "code",
   "execution_count": 5,
   "metadata": {},
   "outputs": [
    {
     "data": {
      "text/html": [
       "<img src=\"./images/Pic1.png\"/>"
      ],
      "text/plain": [
       "<IPython.core.display.Image object>"
      ]
     },
     "execution_count": 5,
     "metadata": {},
     "output_type": "execute_result"
    }
   ],
   "source": [
    "# import image module\n",
    "from IPython.display import Image\n",
    "  \n",
    "# get the image\n",
    "Image(url=\"./images/Pic1.png\")"
   ]
  },
  {
   "cell_type": "markdown",
   "metadata": {},
   "source": [
    "Let's assume that we have the information related to intrinsic parameters of both sensors and also the extrinsic parameters between these two sensors coordinate frame. From perspective pinhole camera projection, we have:\n",
    "\n",
    "$ \\lambda \\begin{bmatrix}\n",
    "u \\\\\n",
    "v \\\\\n",
    "1 \n",
    "\\end{bmatrix} = \\begin{bmatrix}\n",
    "s_x & s_{\\theta} & o_x \\\\\n",
    "0 & s_y & o_y \\\\\n",
    "0 & 0 & 1 \\\\\n",
    "\\end{bmatrix} \\begin{bmatrix}\n",
    "f & 0 & 0 \\\\\n",
    "0 & f & 0 \\\\\n",
    "0 & 0 & 1 \\\\\n",
    "\\end{bmatrix} \\begin{bmatrix}\n",
    "1 & 0 & 0 & 0 \\\\\n",
    "0 & 1 & 0 & 0 \\\\\n",
    "0 & 0 & 1 & 0 \\\\\n",
    "\\end{bmatrix} \\begin{bmatrix}\n",
    "R & t \\\\\n",
    "0 & 1 \\\\\n",
    "\\end{bmatrix} \\begin{bmatrix}\n",
    "X_0\\\\\n",
    "Y_0 \\\\\n",
    "Z_0 \\\\\n",
    "1 \\end{bmatrix}$\n",
    "\n",
    "Which: \n",
    "\n",
    "$ f $ : focal length of camera in milimeters, \n",
    "$ o_x$: x-coordinate of principal point in pixels, \n",
    "$ o_y$: y-coordinate of principal point in pixels, \n",
    "$ s_x$ : scaling in x-direction to acquire unit length in horizontal pixels, \n",
    "$ s_y$ : scaling in y-direction to acquire unit length in horizontal pixels,\n",
    "$ s_{\\theta}$: skew factor ( often close to zero).\n",
    "\n",
    "In the above equation the $\\begin{bmatrix}\n",
    "X_0\\\\\n",
    "Y_0 \\\\\n",
    "Z_0 \\\\\n",
    "1 \\end{bmatrix}$ shows the homogeneous coordinate of a 3D point in the world frame, which if we transfer it to cmaera fram via extrinsic parameters we have: \n",
    "\n",
    "$\n",
    "X_c = \\begin{bmatrix}\n",
    "R & T \\\\\n",
    "0 & 1 \\\\\n",
    "\\end{bmatrix} \\begin{bmatrix}\n",
    "X_0\\\\\n",
    "Y_0 \\\\\n",
    "Z_0 \\\\\n",
    "1 \\end{bmatrix}$"
   ]
  },
  {
   "cell_type": "code",
   "execution_count": 6,
   "metadata": {},
   "outputs": [
    {
     "data": {
      "text/html": [
       "<img src=\"./images/Pic2.png\"/>"
      ],
      "text/plain": [
       "<IPython.core.display.Image object>"
      ]
     },
     "execution_count": 6,
     "metadata": {},
     "output_type": "execute_result"
    }
   ],
   "source": [
    "# import image module\n",
    "from IPython.display import Image\n",
    "  \n",
    "# get the image\n",
    "Image(url=\"./images/Pic2.png\")"
   ]
  },
  {
   "cell_type": "markdown",
   "metadata": {},
   "source": [
    "In our case we consider $s_{\\theta} = 0$, also $fs_x = f_x$ and $fs_y = f_y$. Then we have:\n",
    "\n",
    "$ \\lambda \\begin{bmatrix}\n",
    "u_c \\\\\n",
    "v_c \\\\\n",
    "1 \n",
    "\\end{bmatrix} = \\begin{bmatrix}\n",
    "f_x & 0 & o_x \\\\\n",
    "0 & f_y & o_y \\\\\n",
    "0 & 0 & 1 \\\\\n",
    "\\end{bmatrix}_c \\begin{bmatrix}\n",
    "1 & 0 & 0 & 0 \\\\\n",
    "0 & 1 & 0 & 0 \\\\\n",
    "0 & 0 & 1 & 0 \\\\\n",
    "\\end{bmatrix}  X_c$\n",
    "\n",
    "In this scenario we will take a pixel location from RGB image and use the projection model to acquire the corrseponding 3D ray in homogeneous coordinate in the RGB camera frame $ X_c $.\n",
    "\n",
    "\n",
    "Without loosing the generality of equation we can consider $ \\lambda = 1 $. \n",
    "On the other hand we assumed we have the transformation matrix between two sensors, so we have the below equation for transformation between a homogeneous point in RGB camera and the same point in depth camera frame:\n",
    "\n",
    "$ \n",
    "X_c = T_{d2c}  X_d \n",
    "$\n",
    "\n"
   ]
  },
  {
   "cell_type": "code",
   "execution_count": 7,
   "metadata": {},
   "outputs": [
    {
     "data": {
      "text/html": [
       "<img src=\"./images/Pic3.png\"/>"
      ],
      "text/plain": [
       "<IPython.core.display.Image object>"
      ]
     },
     "execution_count": 7,
     "metadata": {},
     "output_type": "execute_result"
    }
   ],
   "source": [
    "from IPython.display import Image\n",
    "  \n",
    "# get the image\n",
    "Image(url=\"./images/Pic3.png\")"
   ]
  },
  {
   "cell_type": "markdown",
   "metadata": {},
   "source": [
    "Therefore, by substituting $X_c $ in the projection equation, we have:\n",
    "\n",
    "$ \\begin{bmatrix}\n",
    "u_c \\\\\n",
    "v_c \\\\\n",
    "1 \n",
    "\\end{bmatrix} = \\begin{bmatrix}\n",
    "f_x & 0 & o_x \\\\\n",
    "0 & f_y & o_y \\\\\n",
    "0 & 0 & 1 \\\\\n",
    "\\end{bmatrix}_c \\begin{bmatrix}\n",
    "1 & 0 & 0 & 0 \\\\\n",
    "0 & 1 & 0 & 0 \\\\\n",
    "0 & 0 & 1 & 0 \\\\\n",
    "\\end{bmatrix}  T_{d2c}  X_d  $\n",
    "\n",
    "If we use the projection equation for depth camera we have: \n",
    "\n",
    "$\\lambda_{d} \\begin{bmatrix}\n",
    "u_d \\\\\n",
    "v_d \\\\\n",
    "1 \n",
    "\\end{bmatrix} = \\begin{bmatrix}\n",
    "f_x & 0 & o_x \\\\\n",
    "0 & f_y & o_y \\\\\n",
    "0 & 0 & 1 \\\\\n",
    "\\end{bmatrix}_d \\begin{bmatrix}\n",
    "1 & 0 & 0 & 0 \\\\\n",
    "0 & 1 & 0 & 0 \\\\\n",
    "0 & 0 & 1 & 0 \\\\\n",
    "\\end{bmatrix} X_d  $\n",
    "\n",
    "=> $(\\begin{bmatrix}\n",
    "f_x & 0 & o_x \\\\\n",
    "0 & f_y & o_y \\\\\n",
    "0 & 0 & 1 \\\\\n",
    "\\end{bmatrix}_d \\begin{bmatrix}\n",
    "1 & 0 & 0 & 0 \\\\\n",
    "0 & 1 & 0 & 0 \\\\\n",
    "0 & 0 & 1 & 0 \\\\\n",
    "\\end{bmatrix})^{-1} \\lambda_{d} \\begin{bmatrix}\n",
    "u_d \\\\\n",
    "v_d \\\\\n",
    "1 \n",
    "\\end{bmatrix} = \n",
    " X_d  $\n",
    "\n",
    "By substituting $ X_d $ we have: \n",
    "\n",
    "$ \\begin{bmatrix}\n",
    "u_c \\\\\n",
    "v_c \\\\\n",
    "1 \n",
    "\\end{bmatrix} = \\begin{bmatrix}\n",
    "f_x & 0 & o_x \\\\\n",
    "0 & f_y & o_y \\\\\n",
    "0 & 0 & 1 \\\\\n",
    "\\end{bmatrix}_c \\begin{bmatrix}\n",
    "1 & 0 & 0 & 0 \\\\\n",
    "0 & 1 & 0 & 0 \\\\\n",
    "0 & 0 & 1 & 0 \\\\\n",
    "\\end{bmatrix}  T_{d2c} (\\begin{bmatrix}\n",
    "f_x & 0 & o_x \\\\\n",
    "0 & f_y & o_y \\\\\n",
    "0 & 0 & 1 \\\\\n",
    "\\end{bmatrix}_d \\begin{bmatrix}\n",
    "1 & 0 & 0 & 0 \\\\\n",
    "0 & 1 & 0 & 0 \\\\\n",
    "0 & 0 & 1 & 0 \\\\\n",
    "\\end{bmatrix})^{-1} \\lambda_{d} \\begin{bmatrix}\n",
    "u_d \\\\\n",
    "v_d \\\\\n",
    "1 \n",
    "\\end{bmatrix} $\n",
    "\n",
    "The this way we can submit a relation between pixel location in RGB and find the corresponding one in depth image."
   ]
  },
  {
   "cell_type": "code",
   "execution_count": null,
   "metadata": {},
   "outputs": [],
   "source": []
  },
  {
   "cell_type": "code",
   "execution_count": null,
   "metadata": {},
   "outputs": [],
   "source": []
  }
 ],
 "metadata": {
  "interpreter": {
   "hash": "b3736930251dd925f7034bcd08df960d9b9aad8df2285346b2de2a23dd3e0b63"
  },
  "kernelspec": {
   "display_name": "Python 3 (ipykernel)",
   "language": "python",
   "name": "python3"
  },
  "language_info": {
   "codemirror_mode": {
    "name": "ipython",
    "version": 3
   },
   "file_extension": ".py",
   "mimetype": "text/x-python",
   "name": "python",
   "nbconvert_exporter": "python",
   "pygments_lexer": "ipython3",
   "version": "3.9.7"
  }
 },
 "nbformat": 4,
 "nbformat_minor": 2
}
